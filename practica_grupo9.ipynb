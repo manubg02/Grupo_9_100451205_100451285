{
  "nbformat": 4,
  "nbformat_minor": 0,
  "metadata": {
    "colab": {
      "provenance": [],
      "authorship_tag": "ABX9TyMuRYqQSQ7rBauCBdh0XWo7",
      "include_colab_link": true
    },
    "kernelspec": {
      "name": "python3",
      "display_name": "Python 3"
    },
    "language_info": {
      "name": "python"
    }
  },
  "cells": [
    {
      "cell_type": "markdown",
      "metadata": {
        "id": "view-in-github",
        "colab_type": "text"
      },
      "source": [
        "<a href=\"https://colab.research.google.com/github/manubg02/Grupo_9_100451205_100451285/blob/main/practica_grupo9.ipynb\" target=\"_parent\"><img src=\"https://colab.research.google.com/assets/colab-badge.svg\" alt=\"Open In Colab\"/></a>"
      ]
    },
    {
      "cell_type": "markdown",
      "source": [
        "# **PRÁCTICA 1: PREDICCIÓN DE LA PRODUCCIÓN DE ENERGÍA EOLICA**\n",
        "\n",
        "Autores: Manuel Bona Garrote y Miguel Castuera García\n",
        "\n",
        "NIAs: 100451205 y 100451285 Número del grupo de prácticas: 9"
      ],
      "metadata": {
        "id": "OwUfKii1BHcI"
      }
    },
    {
      "cell_type": "markdown",
      "source": [
        "# **1. Introducción**\n",
        "\n",
        "El objetivo de este ejercicio es familiarizarnos con varios enfoques de machine learning y la optimización de hiperparámetros. Nuestra tarea incluye completar el proceso: seleccionar el método más adecuado para un determinado set de datos, prever cómo se desempeñará el método seleccionado en situaciones futuras, y desarrollar el modelo definitivo para realizar pronósticos sobre nuevos conjuntos de datos. Para empezar, isponemos de 2 sets: datos disponibles y datos de competición."
      ],
      "metadata": {
        "id": "rUmvzEFMBWQ8"
      }
    },
    {
      "cell_type": "markdown",
      "source": [
        "# **2. Leer los conjuntos de datos**\n",
        "Empezamos leyendo los conjuntos de datos almacenados en los archivos wind_ava.csv y wind_comp.csv. Importaremos todas las librerías que vamos a utilizar durante la práctica."
      ],
      "metadata": {
        "id": "qpbCpkkFQVwT"
      }
    },
    {
      "cell_type": "code",
      "source": [
        "# Importamos las librerias que vamos a utilizar a lo largo del proyecto\n",
        "import pandas as pd\n",
        "import time\n",
        "%matplotlib inline\n",
        "import seaborn as sns\n",
        "import numpy as np\n",
        "import matplotlib.pyplot as plt\n",
        "\n",
        "from sklearn.neighbors import KNeighborsRegressor\n",
        "from sklearn.model_selection import GridSearchCV\n",
        "from sklearn.tree import DecisionTreeRegressor\n",
        "from sklearn.linear_model import LinearRegression\n",
        "from sklearn.model_selection import train_test_split\n",
        "from sklearn.metrics import mean_squared_error, mean_absolute_error\n",
        "from sklearn.svm import SVR\n",
        "from sklearn.ensemble import RandomForestRegressor\n",
        "from sklearn.pipeline import make_pipeline\n",
        "from sklearn.model_selection import PredefinedSplit\n",
        "from sklearn.preprocessing import StandardScaler\n",
        "from sklearn.dummy import DummyRegressor\n",
        "from sklearn.linear_model import Ridge, Lasso\n",
        "from sklearn import metrics\n",
        "from sklearn.feature_selection import SelectKBest, f_regression"
      ],
      "metadata": {
        "id": "VcsyO35NQ_eo"
      },
      "execution_count": null,
      "outputs": []
    }
  ]
}